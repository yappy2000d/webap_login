{
 "cells": [
  {
   "cell_type": "code",
   "execution_count": null,
   "id": "a48f8323",
   "metadata": {
    "vscode": {
     "languageId": "plaintext"
    }
   },
   "outputs": [],
   "source": [
    "!wget https://github.com/NKUST-ITC/NKUST-AP-Flutter/raw/fd06efbc54d3829fcca2c99c3517e1a2c6c903e0/assets/webap_captcha.tflite"
   ]
  }
 ],
 "metadata": {
  "language_info": {
   "name": "python"
  }
 },
 "nbformat": 4,
 "nbformat_minor": 5
}
